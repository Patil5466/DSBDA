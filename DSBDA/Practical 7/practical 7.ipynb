{
 "cells": [
  {
   "cell_type": "code",
   "execution_count": null,
   "id": "71b46962",
   "metadata": {},
   "outputs": [],
   "source": [
    "#7. Text Analytics"
   ]
  },
  {
   "cell_type": "code",
   "execution_count": 1,
   "id": "83df2e28",
   "metadata": {},
   "outputs": [
    {
     "name": "stderr",
     "output_type": "stream",
     "text": [
      "[nltk_data] Downloading package punkt to\n",
      "[nltk_data]     C:\\Users\\Akanksha\\AppData\\Roaming\\nltk_data...\n",
      "[nltk_data]   Unzipping tokenizers\\punkt.zip.\n",
      "[nltk_data] Downloading package wordnet to\n",
      "[nltk_data]     C:\\Users\\Akanksha\\AppData\\Roaming\\nltk_data...\n",
      "[nltk_data] Downloading package averaged_perceptron_tagger to\n",
      "[nltk_data]     C:\\Users\\Akanksha\\AppData\\Roaming\\nltk_data...\n",
      "[nltk_data]   Unzipping taggers\\averaged_perceptron_tagger.zip.\n",
      "[nltk_data] Downloading package stopwords to\n",
      "[nltk_data]     C:\\Users\\Akanksha\\AppData\\Roaming\\nltk_data...\n",
      "[nltk_data]   Unzipping corpora\\stopwords.zip.\n"
     ]
    }
   ],
   "source": [
    "import nltk\n",
    "nltk.download('punkt')\n",
    "nltk.download('wordnet')\n",
    "nltk.download('averaged_perceptron_tagger')\n",
    "nltk.download('stopwords')\n",
    "from nltk import sent_tokenize\n",
    "from nltk import word_tokenize\n",
    "from nltk.corpus import stopwords"
   ]
  },
  {
   "cell_type": "code",
   "execution_count": 2,
   "id": "6f8de00f",
   "metadata": {},
   "outputs": [],
   "source": [
    "text='Tokenization is the  first step in text analyticss. The proccess of breakiing down  a text  paragraph into smaller chunks such  as word  sentences is called Tokenization'"
   ]
  },
  {
   "cell_type": "code",
   "execution_count": 3,
   "id": "c09751c8",
   "metadata": {},
   "outputs": [
    {
     "name": "stdout",
     "output_type": "stream",
     "text": [
      "['Tokenization is the  first step in text analyticss.', 'The proccess of breakiing down  a text  paragraph into smaller chunks such  as word  sentences is called Tokenization']\n"
     ]
    }
   ],
   "source": [
    "#sentence tokanization\n",
    "from nltk.tokenize  import sent_tokenize\n",
    "tokenized_text=sent_tokenize(text)\n",
    "print(tokenized_text)"
   ]
  },
  {
   "cell_type": "code",
   "execution_count": 4,
   "id": "803c84f9",
   "metadata": {},
   "outputs": [
    {
     "name": "stdout",
     "output_type": "stream",
     "text": [
      "['Tokenization', 'is', 'the', 'first', 'step', 'in', 'text', 'analyticss', '.', 'The', 'proccess', 'of', 'breakiing', 'down', 'a', 'text', 'paragraph', 'into', 'smaller', 'chunks', 'such', 'as', 'word', 'sentences', 'is', 'called', 'Tokenization']\n"
     ]
    }
   ],
   "source": [
    "#word tokenization\n",
    "from nltk.tokenize  import word_tokenize\n",
    "tokenized_word=word_tokenize(text)\n",
    "print(tokenized_word)"
   ]
  },
  {
   "cell_type": "code",
   "execution_count": 5,
   "id": "87f8dc8c",
   "metadata": {},
   "outputs": [
    {
     "name": "stdout",
     "output_type": "stream",
     "text": [
      "{'me', 'their', 'himself', 'what', \"you'll\", \"you've\", 'were', 'same', 'them', 'is', 'ours', 'just', \"aren't\", 'doing', \"hadn't\", 'more', 'doesn', \"won't\", 'when', 'than', 'ain', 'our', 'to', 'herself', 'through', 'wasn', 'until', 'then', 'nor', 'who', 'in', 'didn', 'against', 'have', 'mightn', 'above', 'both', 'will', 'if', 'each', 'its', 'while', \"should've\", 'no', 'there', 'because', 'are', 'hers', 'been', 'these', 'as', 'once', 'further', 'here', 'few', 'all', 'other', 'only', 'into', 's', 'needn', 'yourself', 'an', \"weren't\", 'shouldn', \"she's\", 'why', 'd', 'was', 'do', 'by', 'him', 'myself', 'be', 'yourselves', 'off', 'it', 'did', 'which', \"mightn't\", 'they', 'that', 'had', 'theirs', 'her', 'mustn', \"that'll\", 'over', 'she', \"needn't\", 'does', 'don', 'your', 'or', \"wasn't\", 'from', 'm', \"doesn't\", 'aren', 'now', 'll', 'themselves', \"didn't\", \"haven't\", 'at', 'up', 'out', 'again', \"it's\", 'we', 'you', 'am', 'has', 'after', 'under', 'i', 'the', 'so', 'weren', 'my', 'his', 'can', 'ourselves', 'not', 'too', 'whom', \"you'd\", 'a', 'haven', 'wouldn', 'very', 'hasn', 'ma', \"don't\", 'such', 've', \"isn't\", 'how', 'isn', \"mustn't\", \"shan't\", 'he', 'won', 'of', 'where', 'couldn', 'having', 'and', 'on', 'should', 'but', 'during', \"couldn't\", 'own', 'this', 't', 'yours', 'o', \"shouldn't\", 're', 'y', 'with', 'for', 'hadn', 'those', 'below', 'shan', \"hasn't\", 'some', 'any', 'about', \"wouldn't\", 'most', 'itself', 'being', 'before', 'down', \"you're\", 'between'}\n"
     ]
    }
   ],
   "source": [
    "#stopwords\n",
    "from nltk.corpus import stopwords\n",
    "stop_words=set(stopwords.words(\"english\"))\n",
    "print(stop_words)"
   ]
  },
  {
   "cell_type": "code",
   "execution_count": 6,
   "id": "3f683bf4",
   "metadata": {},
   "outputs": [
    {
     "data": {
      "text/plain": [
       "['Tokenization',\n",
       " 'first',\n",
       " 'step',\n",
       " 'text',\n",
       " 'analyticss',\n",
       " '.',\n",
       " 'proccess',\n",
       " 'breakiing',\n",
       " 'text',\n",
       " 'paragraph',\n",
       " 'smaller',\n",
       " 'chunks',\n",
       " 'word',\n",
       " 'sentences',\n",
       " 'called',\n",
       " 'Tokenization']"
      ]
     },
     "execution_count": 6,
     "metadata": {},
     "output_type": "execute_result"
    }
   ],
   "source": [
    "filtered_tokens=[word for word in tokenized_word if word.lower() not in stop_words]\n",
    "filtered_tokens"
   ]
  },
  {
   "cell_type": "code",
   "execution_count": 7,
   "id": "b249b48c",
   "metadata": {},
   "outputs": [],
   "source": [
    "#stemming\n",
    "from nltk.stem import PorterStemmer\n",
    "Stemmer = PorterStemmer()\n",
    "Stemmed_tokens=[Stemmer.stem(word)for word in filtered_tokens]"
   ]
  },
  {
   "cell_type": "code",
   "execution_count": 8,
   "id": "6e5e73b2",
   "metadata": {},
   "outputs": [
    {
     "name": "stderr",
     "output_type": "stream",
     "text": [
      "[nltk_data] Downloading package omw-1.4 to\n",
      "[nltk_data]     C:\\Users\\Akanksha\\AppData\\Roaming\\nltk_data...\n"
     ]
    },
    {
     "data": {
      "text/plain": [
       "True"
      ]
     },
     "execution_count": 8,
     "metadata": {},
     "output_type": "execute_result"
    }
   ],
   "source": [
    "#lemmatization\n",
    "import nltk\n",
    "nltk.download('omw-1.4')"
   ]
  },
  {
   "cell_type": "code",
   "execution_count": 9,
   "id": "dba8b3be",
   "metadata": {},
   "outputs": [],
   "source": [
    "from nltk.stem import WordNetLemmatizer\n",
    "lemmatizer = WordNetLemmatizer()\n",
    "lemmatized_tokens = [lemmatizer.lemmatize(word) for word in filtered_tokens]"
   ]
  },
  {
   "cell_type": "code",
   "execution_count": 10,
   "id": "c999eed8",
   "metadata": {},
   "outputs": [
    {
     "data": {
      "text/plain": [
       "['Tokenization',\n",
       " 'first',\n",
       " 'step',\n",
       " 'text',\n",
       " 'analyticss',\n",
       " '.',\n",
       " 'proccess',\n",
       " 'breakiing',\n",
       " 'text',\n",
       " 'paragraph',\n",
       " 'smaller',\n",
       " 'chunk',\n",
       " 'word',\n",
       " 'sentence',\n",
       " 'called',\n",
       " 'Tokenization']"
      ]
     },
     "execution_count": 10,
     "metadata": {},
     "output_type": "execute_result"
    }
   ],
   "source": [
    "lemmatized_tokens"
   ]
  },
  {
   "cell_type": "code",
   "execution_count": 11,
   "id": "b3ab7781",
   "metadata": {},
   "outputs": [
    {
     "name": "stderr",
     "output_type": "stream",
     "text": [
      "[nltk_data] Downloading package averaged_perceptron_tagger to\n",
      "[nltk_data]     C:\\Users\\Akanksha\\AppData\\Roaming\\nltk_data...\n",
      "[nltk_data]   Package averaged_perceptron_tagger is already up-to-\n",
      "[nltk_data]       date!\n"
     ]
    },
    {
     "data": {
      "text/plain": [
       "True"
      ]
     },
     "execution_count": 11,
     "metadata": {},
     "output_type": "execute_result"
    }
   ],
   "source": [
    "#pos tagging\n",
    "import nltk\n",
    "nltk.download('averaged_perceptron_tagger')"
   ]
  },
  {
   "cell_type": "code",
   "execution_count": 12,
   "id": "559a2be2",
   "metadata": {},
   "outputs": [
    {
     "data": {
      "text/plain": [
       "[('Tokenization', 'NN'),\n",
       " ('is', 'VBZ'),\n",
       " ('the', 'DT'),\n",
       " ('first', 'JJ'),\n",
       " ('step', 'NN'),\n",
       " ('in', 'IN'),\n",
       " ('text', 'JJ'),\n",
       " ('analyticss', 'NN'),\n",
       " ('.', '.'),\n",
       " ('The', 'DT'),\n",
       " ('proccess', 'NN'),\n",
       " ('of', 'IN'),\n",
       " ('breakiing', 'VBG'),\n",
       " ('down', 'RP'),\n",
       " ('a', 'DT'),\n",
       " ('text', 'NN'),\n",
       " ('paragraph', 'NN'),\n",
       " ('into', 'IN'),\n",
       " ('smaller', 'JJR'),\n",
       " ('chunks', 'NNS'),\n",
       " ('such', 'JJ'),\n",
       " ('as', 'IN'),\n",
       " ('word', 'NN'),\n",
       " ('sentences', 'NNS'),\n",
       " ('is', 'VBZ'),\n",
       " ('called', 'VBN'),\n",
       " ('Tokenization', 'NN')]"
      ]
     },
     "execution_count": 12,
     "metadata": {},
     "output_type": "execute_result"
    }
   ],
   "source": [
    "#Pos tagging\n",
    "from nltk import pos_tag\n",
    "pos=pos_tag(tokenized_word)\n",
    "pos"
   ]
  },
  {
   "cell_type": "code",
   "execution_count": 13,
   "id": "3e4ed956",
   "metadata": {},
   "outputs": [],
   "source": [
    "import re"
   ]
  },
  {
   "cell_type": "code",
   "execution_count": 14,
   "id": "fd50ddc2",
   "metadata": {},
   "outputs": [
    {
     "name": "stdout",
     "output_type": "stream",
     "text": [
      "Tokenized Sentence :  ['how', 'to', 'remove', 'stop', 'words', 'with', 'nlkt', 'library', 'in', 'python']\n",
      "Filterd sentence : ['remove', 'stop', 'words', 'nlkt', 'library', 'python']\n"
     ]
    }
   ],
   "source": [
    "text=\"How to remove stop words  with NLKT library in Python ?\"\n",
    "text=re.sub('[^a-zA-Z]', ' ',text)\n",
    "tokens = word_tokenize(text.lower())\n",
    "filtered_text=[]\n",
    "\n",
    "for w  in tokens:\n",
    "    if w not in stop_words:\n",
    "        filtered_text.append(w)\n",
    "print(\"Tokenized Sentence : \",tokens)\n",
    "print(\"Filterd sentence :\",filtered_text)"
   ]
  },
  {
   "cell_type": "code",
   "execution_count": null,
   "id": "106808fc",
   "metadata": {},
   "outputs": [],
   "source": []
  }
 ],
 "metadata": {
  "kernelspec": {
   "display_name": "Python 3 (ipykernel)",
   "language": "python",
   "name": "python3"
  },
  "language_info": {
   "codemirror_mode": {
    "name": "ipython",
    "version": 3
   },
   "file_extension": ".py",
   "mimetype": "text/x-python",
   "name": "python",
   "nbconvert_exporter": "python",
   "pygments_lexer": "ipython3",
   "version": "3.11.5"
  }
 },
 "nbformat": 4,
 "nbformat_minor": 5
}
